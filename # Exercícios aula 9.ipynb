{
 "cells": [
  {
   "cell_type": "markdown",
   "id": "28e9a621",
   "metadata": {},
   "source": [
    "# Exercícios\n",
    "\n",
    "## 1. Faturamento do Melhor e do Pior Mês do Ano\n",
    "\n",
    "Qual foi o valor de vendas do melhor mês do Ano?\n",
    "E valor do pior mês do ano?"
   ]
  },
  {
   "cell_type": "code",
   "execution_count": 15,
   "id": "35c369c6",
   "metadata": {},
   "outputs": [
    {
     "name": "stdout",
     "output_type": "stream",
     "text": [
      "49051\n",
      "9650\n",
      "[25000, 29000, 22200, 17750, 15870, 19900, 19850, 20120, 17540, 15555, 49051, 9650]\n"
     ]
    }
   ],
   "source": [
    "meses = ['jan', 'fev', 'mar', 'abr', 'mai', 'jun', 'jul', 'ago', 'set', 'out', 'nov', 'dez']\n",
    "vendas_1sem = [25000, 29000, 22200, 17750, 15870, 19900]\n",
    "vendas_2sem = [19850, 20120, 17540, 15555, 49051, 9650]\n",
    "\n",
    "vendas_1sem.extend(vendas_2sem)\n",
    "maior_valor = max(vendas_1sem)\n",
    "menor_valor = min(vendas_1sem)\n",
    "\n",
    "print(maior_valor)\n",
    "print(menor_valor)\n",
    "print(vendas_1sem)"
   ]
  },
  {
   "cell_type": "markdown",
   "id": "21371a49",
   "metadata": {},
   "source": [
    "## 2. Continuação\n",
    "\n",
    "Agora relacione as duas listas para printar 'O melhor mês do ano foi {} com {} vendas' e o mesmo para o pior mês do ano.\n",
    "\n",
    "Calcule também o faturamento total do Ano e quanto que o melhor mês representou do faturamento total.\n",
    "\n",
    "Obs: Para o faturamento total, pode usar a função sum(lista) que soma todos os itens de uma lista"
   ]
  },
  {
   "cell_type": "code",
   "execution_count": 26,
   "id": "3739db4a",
   "metadata": {},
   "outputs": [
    {
     "name": "stdout",
     "output_type": "stream",
     "text": [
      "o melhor mes do ano foi nov com 49051 vendas\n",
      "o pior mes do ano foi dez com 9650 vendas\n",
      "o faturamento total foi de : R$261,486 \n",
      " O melhor mes do ano representou 18.8% das vendas do ano todo\n"
     ]
    }
   ],
   "source": [
    "i_maior_valor = vendas_1sem.index(maior_valor)\n",
    "i_menor_valor = vendas_1sem.index(menor_valor)\n",
    "\n",
    "print('o melhor mes do ano foi {} com {} vendas'.format(meses[i_maior_valor], maior_valor))\n",
    "print('o pior mes do ano foi {} com {} vendas'.format(meses[i_menor_valor], menor_valor))\n",
    "\n",
    "fat_total = sum(vendas_1sem)\n",
    "print('o faturamento total foi de : R${:,} ' .format(fat_total))\n",
    "\n",
    "percentural = maior_valor / fat_total\n",
    "print(' O melhor mes do ano representou {:.1%} das vendas do ano todo'. format(percentural))"
   ]
  },
  {
   "cell_type": "markdown",
   "id": "23cfcdc6",
   "metadata": {},
   "source": [
    "## 3. Crie uma lista com o top 3 valores de vendas do ano (sem fazer \"no olho\")\n",
    "\n",
    "Dica: o método remove retira um item da lista."
   ]
  },
  {
   "cell_type": "code",
   "execution_count": 27,
   "id": "436b9752",
   "metadata": {},
   "outputs": [
    {
     "name": "stdout",
     "output_type": "stream",
     "text": [
      "[25000, 29000, 22200, 17750, 15870, 19900, 19850, 20120, 17540, 15555, 49051, 9650]\n"
     ]
    }
   ],
   "source": [
    "print (vendas_1sem)\n",
    "\n",
    "top3 = []\n",
    "\n",
    "print(vendas_1sem)\n",
    "maior"
   ]
  }
 ],
 "metadata": {
  "kernelspec": {
   "display_name": "Python 3 (ipykernel)",
   "language": "python",
   "name": "python3"
  },
  "language_info": {
   "codemirror_mode": {
    "name": "ipython",
    "version": 3
   },
   "file_extension": ".py",
   "mimetype": "text/x-python",
   "name": "python",
   "nbconvert_exporter": "python",
   "pygments_lexer": "ipython3",
   "version": "3.9.13"
  }
 },
 "nbformat": 4,
 "nbformat_minor": 5
}
